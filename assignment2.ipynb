{
 "cells": [
  {
   "cell_type": "code",
   "execution_count": 10,
   "id": "acf9246a-8cff-4e90-8754-a83343f92d6f",
   "metadata": {},
   "outputs": [
    {
     "name": "stdout",
     "output_type": "stream",
     "text": [
      "7\n",
      "3\n",
      "10\n",
      "1\n"
     ]
    }
   ],
   "source": [
    "#question 1\n",
    "a = 5\n",
    "b = 2\n",
    "\n",
    "sum =( a + b )\n",
    "print(sum)\n",
    "\n",
    "difference = (a - b)\n",
    "print(difference)\n",
    "\n",
    "product = (a*b)\n",
    "print(product)\n",
    "\n",
    "quotient = a%b\n",
    "print(quotient)"
   ]
  },
  {
   "cell_type": "code",
   "execution_count": 11,
   "id": "9f4a837e-a39a-4977-a0da-ee0c35dd7e4f",
   "metadata": {},
   "outputs": [
    {
     "name": "stdout",
     "output_type": "stream",
     "text": [
      "After addition: 15\n",
      "After subtraction: 12\n",
      "After multiplication: 24\n",
      "After division: 6.0\n",
      "After modulus operation: 0.0\n",
      "After floor division: 0.0\n",
      "After exponentiation: 0.0\n"
     ]
    }
   ],
   "source": [
    "#question 2\n",
    "\n",
    "x = 10\n",
    "\n",
    "# Perform various assignment operations\n",
    "\n",
    "x += 5  # equivalent to x = x + 5 \n",
    "print(\"After addition:\", x)\n",
    "\n",
    "x -= 3  # equivalent to x = x - 3\n",
    "print(\"After subtraction:\", x)\n",
    "\n",
    "x *= 2  # equivalent to x = x * 2\n",
    "print(\"After multiplication:\", x)\n",
    "\n",
    "x /= 4  # equivalent to x = x / 4\n",
    "print(\"After division:\", x)\n",
    "\n",
    "x %= 3  # equivalent to x = x % 3\n",
    "print(\"After modulus operation:\", x)\n",
    "\n",
    "x //= 2  # equivalent to x = x // 2\n",
    "print(\"After floor division:\", x)\n",
    "\n",
    "x **= 3  # equivalent to x = x ** 3\n",
    "print(\"After exponentiation:\", x)"
   ]
  },
  {
   "cell_type": "code",
   "execution_count": 13,
   "id": "09a890cb-acec-4ab8-95cc-436844fe3d0c",
   "metadata": {},
   "outputs": [
    {
     "name": "stdout",
     "output_type": "stream",
     "text": [
      "10 is less than 20\n"
     ]
    }
   ],
   "source": [
    "#question number -3\n",
    "\n",
    "num1 = 10\n",
    "num2 = 20\n",
    "\n",
    "# Compare the two numbers\n",
    "\n",
    "if num1 < num2:\n",
    "    print(f\"{num1} is less than {num2}\")\n",
    "    \n",
    "elif num1 > num2:\n",
    "    print(f\"{num1} is greater than {num2}\")\n",
    "    \n",
    "else:\n",
    "    print(f\"{num1} is equal to {num2}\")\n",
    "    "
   ]
  },
  {
   "cell_type": "code",
   "execution_count": 16,
   "id": "5f644706-e98d-4074-8b0c-a8029cd1244e",
   "metadata": {},
   "outputs": [
    {
     "name": "stdout",
     "output_type": "stream",
     "text": [
      "At least one number is non-zero.\n"
     ]
    }
   ],
   "source": [
    "#question no - 4\n",
    "#check condition using logical opearator\n",
    "\n",
    "num1 = 15\n",
    "\n",
    "num2 =2\n",
    "\n",
    "# Check conditions using all logical operators\n",
    "\n",
    "if num1 > num2 and num1 % 2 == 0:\n",
    "    print(\"num1 is greater than num2 and even.\")\n",
    "    \n",
    "elif num1 < num2 or num2 % 2 != 0:\n",
    "    print(\"num1 is less than num2 or num2 is odd.\")\n",
    "    \n",
    "elif not (num1 == 0 and num2 == 0):\n",
    "    print(\"At least one number is non-zero.\")\n",
    "    \n",
    "else:\n",
    "    print(\"Both numbers are zero.\")\n",
    "\n"
   ]
  },
  {
   "cell_type": "code",
   "execution_count": 17,
   "id": "c7cffba4-4cfb-4ce4-b624-ae3614844533",
   "metadata": {},
   "outputs": [
    {
     "name": "stdout",
     "output_type": "stream",
     "text": [
      "140639120688656\n",
      "140639120688656\n",
      "140639120688656\n"
     ]
    }
   ],
   "source": [
    "#question -5 \n",
    "#check the identity of variable\n",
    "\n",
    "x = 42\n",
    "y = x\n",
    "z = 42\n",
    " \n",
    "print(id(x))  \n",
    "print(id(y))  # (same as x)\n",
    "print(id(z))  # (same as x and y)"
   ]
  },
  {
   "cell_type": "code",
   "execution_count": 1,
   "id": "01a52f35-29b6-490b-8188-b3a045634063",
   "metadata": {},
   "outputs": [
    {
     "name": "stdout",
     "output_type": "stream",
     "text": [
      "Bitwise AND: 16\n",
      "Bitwise OR: 27\n",
      "Bitwise XOR: 11\n",
      "Bitwise NOT of num1: -26\n",
      "Bitwise Left Shift of num2: 72\n",
      "Bitwise Right Shift of num1: 12\n"
     ]
    }
   ],
   "source": [
    "#question 6\n",
    "\n",
    "# Define two integers\n",
    "num1 = 25  # Binary: 11001\n",
    "num2 = 18  # Binary: 10010\n",
    "\n",
    "# Perform bitwise AND\n",
    "result_and = num1 & num2\n",
    "print(\"Bitwise AND:\", result_and)  # Output: 16 (Binary: 10000)\n",
    "\n",
    "# Perform bitwise OR\n",
    "result_or = num1 | num2\n",
    "print(\"Bitwise OR:\", result_or)    # Output: 27 (Binary: 11011)\n",
    "\n",
    "# Perform bitwise XOR\n",
    "result_xor = num1 ^ num2\n",
    "print(\"Bitwise XOR:\", result_xor)  # Output: 11 (Binary: 1011)\n",
    "\n",
    "# Perform bitwise NOT (complement) on num1\n",
    "result_not_num1 = ~num1\n",
    "print(\"Bitwise NOT of num1:\", result_not_num1)  # Output: -26 (Binary: 111001)\n",
    "\n",
    "# Perform bitwise left shift on num2\n",
    "result_left_shift = num2 << 2\n",
    "print(\"Bitwise Left Shift of num2:\", result_left_shift)  # Output: 72 (Binary: 1001000)\n",
    "\n",
    "# Perform bitwise right shift on num1\n",
    "result_right_shift = num1 >> 1\n",
    "print(\"Bitwise Right Shift of num1:\", result_right_shift) # Output: 12 (Binary: 1100)"
   ]
  },
  {
   "cell_type": "code",
   "execution_count": 2,
   "id": "30497dec-d9ff-4e9e-86a5-2619b44c41e3",
   "metadata": {},
   "outputs": [
    {
     "name": "stdout",
     "output_type": "stream",
     "text": [
      "Original number: 10\n",
      "Negated number: -10\n"
     ]
    }
   ],
   "source": [
    "#question -7\n",
    "\n",
    "# Define a number\n",
    "num = 10\n",
    "\n",
    "# Change the sign using unary minus operator\n",
    "\n",
    "negated_num = -num\n",
    "\n",
    "print(\"Original number:\", num)\n",
    "print(\"Negated number:\", negated_num)"
   ]
  },
  {
   "cell_type": "code",
   "execution_count": null,
   "id": "a0d5439a-4303-4fae-bd2f-a7670c04adf8",
   "metadata": {},
   "outputs": [],
   "source": [
    "#question -8\n",
    "\n",
    "is_sunny = True\n",
    "weather = \"Sunny\" if is_sunny else \"Not sunny\"\n",
    "print(weather)"
   ]
  }
 ],
 "metadata": {
  "kernelspec": {
   "display_name": "Python 3 (ipykernel)",
   "language": "python",
   "name": "python3"
  },
  "language_info": {
   "codemirror_mode": {
    "name": "ipython",
    "version": 3
   },
   "file_extension": ".py",
   "mimetype": "text/x-python",
   "name": "python",
   "nbconvert_exporter": "python",
   "pygments_lexer": "ipython3",
   "version": "3.10.8"
  }
 },
 "nbformat": 4,
 "nbformat_minor": 5
}
