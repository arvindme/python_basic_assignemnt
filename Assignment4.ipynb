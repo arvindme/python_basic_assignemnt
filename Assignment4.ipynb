{
 "cells": [
  {
   "cell_type": "code",
   "execution_count": 1,
   "id": "c2ce0883-728d-4144-ab5d-35be4fd6f7c4",
   "metadata": {},
   "outputs": [
    {
     "name": "stdout",
     "output_type": "stream",
     "text": [
      "1\n",
      "2\n",
      "3\n",
      "4\n",
      "5\n"
     ]
    }
   ],
   "source": [
    "#answer 1\n",
    "a = 1\n",
    "while a < 6:\n",
    "    print(a)\n",
    "    a +=1"
   ]
  },
  {
   "cell_type": "code",
   "execution_count": 2,
   "id": "cce852b9-2f68-43af-98a9-f69fc51d24ff",
   "metadata": {},
   "outputs": [
    {
     "name": "stdout",
     "output_type": "stream",
     "text": [
      "55\n"
     ]
    }
   ],
   "source": [
    "#Answer 2\n",
    "\n",
    "sum = 0\n",
    "a = 1\n",
    "while a <=10:\n",
    "    sum +=a\n",
    "    a +=1\n",
    "print(sum)"
   ]
  },
  {
   "cell_type": "code",
   "execution_count": null,
   "id": "f2159bc3-22fc-4b3a-909a-af387a5ae58c",
   "metadata": {},
   "outputs": [],
   "source": [
    "#Answer 3\n",
    "e = int(input(\"Enter the value:__\"))\n",
    "\n",
    "factorial = 1\n",
    "if e >=1:\n",
    "    for f in range(1,e+1):\n",
    "        factorial = factorail * f\n",
    "print(\"Factorial of the number:\",factorial)"
   ]
  },
  {
   "cell_type": "code",
   "execution_count": 4,
   "id": "c1cdbf5e-2973-47de-86f5-8a32559e0b22",
   "metadata": {},
   "outputs": [
    {
     "name": "stdout",
     "output_type": "stream",
     "text": [
      "Number of vowels: 4\n"
     ]
    }
   ],
   "source": [
    "#Answer 4\n",
    "string =\"arvind ,verma\"\n",
    "vowels =  \"aeiouAEIOU\"\n",
    "\n",
    "count = 0\n",
    "\n",
    "for i in string:\n",
    "    if i in vowels:\n",
    "        count +=1\n",
    "\n",
    "print(\"Number of vowels:\",count)"
   ]
  },
  {
   "cell_type": "code",
   "execution_count": 6,
   "id": "9006d6d1-fcac-4e0b-81d6-e82b34fadd8b",
   "metadata": {},
   "outputs": [
    {
     "name": "stdout",
     "output_type": "stream",
     "text": [
      "* \n",
      "* * \n",
      "* * * \n",
      "* * * * \n",
      "* * * * * \n"
     ]
    }
   ],
   "source": [
    "#Answer 5\n",
    "\n",
    "row = 1\n",
    "while row <=5:\n",
    "    col = 1\n",
    "    while col <= row:\n",
    "        print(\"*\",end = \" \")\n",
    "        col +=1\n",
    "    print()\n",
    "    row +=1"
   ]
  },
  {
   "cell_type": "code",
   "execution_count": 11,
   "id": "91ce6050-e52d-4786-8bb1-e370ddf96d04",
   "metadata": {},
   "outputs": [
    {
     "name": "stdout",
     "output_type": "stream",
     "text": [
      "1*1 = 1\t 2*1 = 2\t 3*1 = 3\t 4*1 = 4\t 5*1 = 5\t \n",
      "1*2 = 2\t 2*2 = 4\t 3*2 = 6\t 4*2 = 8\t 5*2 = 10\t \n",
      "1*3 = 3\t 2*3 = 6\t 3*3 = 9\t 4*3 = 12\t 5*3 = 15\t \n",
      "1*4 = 4\t 2*4 = 8\t 3*4 = 12\t 4*4 = 16\t 5*4 = 20\t \n",
      "1*5 = 5\t 2*5 = 10\t 3*5 = 15\t 4*5 = 20\t 5*5 = 25\t \n"
     ]
    }
   ],
   "source": [
    "#Answer 6\n",
    "\n",
    "row = 5\n",
    "col = 5\n",
    "for row in range(1,row+1):\n",
    "    for col in range(1,col+1):\n",
    "        i = row * col\n",
    "        print(f\"{col}*{row} = {i}\\t\",end =\" \")\n",
    "    print()    "
   ]
  },
  {
   "cell_type": "code",
   "execution_count": null,
   "id": "de921590-ebcc-48f9-9b91-0d6dd224da6c",
   "metadata": {},
   "outputs": [],
   "source": []
  }
 ],
 "metadata": {
  "kernelspec": {
   "display_name": "Python 3 (ipykernel)",
   "language": "python",
   "name": "python3"
  },
  "language_info": {
   "codemirror_mode": {
    "name": "ipython",
    "version": 3
   },
   "file_extension": ".py",
   "mimetype": "text/x-python",
   "name": "python",
   "nbconvert_exporter": "python",
   "pygments_lexer": "ipython3",
   "version": "3.12.6"
  }
 },
 "nbformat": 4,
 "nbformat_minor": 5
}
