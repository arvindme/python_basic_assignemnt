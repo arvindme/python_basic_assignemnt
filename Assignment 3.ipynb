{
 "cells": [
  {
   "cell_type": "code",
   "execution_count": 55,
   "id": "ee714936-74e1-479d-8f2f-a9e1b3c0cb3d",
   "metadata": {},
   "outputs": [],
   "source": [
    "#Answer 1 - ython keywords are reserved words that have special meanings in the language. They cannot be used as identifiers (like variable names or function names) and help define the syntax and structure of Python code. Understanding these keywords is crucial for writing syntactically correct Python programs."
   ]
  },
  {
   "cell_type": "code",
   "execution_count": 56,
   "id": "40eca74f-9005-4148-89e7-6a31fad7fe74",
   "metadata": {},
   "outputs": [],
   "source": [
    "# first keyword:- def: Used to define a function. It starts the function definition and allows you to encapsulate code for reusability."
   ]
  },
  {
   "cell_type": "code",
   "execution_count": 57,
   "id": "70029648-db4f-4d8c-86ed-a5c9029039a1",
   "metadata": {},
   "outputs": [],
   "source": [
    "def greet(name):\n",
    "    return f\"Hello, {name}!\""
   ]
  },
  {
   "cell_type": "code",
   "execution_count": 58,
   "id": "077ed22c-8d20-4d5c-b6b3-34d494bba50a",
   "metadata": {},
   "outputs": [],
   "source": [
    "# second keywords - if: Used to create conditional statements. It allows the execution of certain blocks of code based on whether a condition is true or false."
   ]
  },
  {
   "cell_type": "code",
   "execution_count": 59,
   "id": "40944f98-15a9-4bed-a963-5e888adfcd92",
   "metadata": {},
   "outputs": [],
   "source": [
    "if x > 10:\n",
    "    print(\"x is greater than 10\")"
   ]
  },
  {
   "cell_type": "code",
   "execution_count": 60,
   "id": "6584984f-8178-4c84-bbfd-3b70120e5f2f",
   "metadata": {},
   "outputs": [],
   "source": [
    "#third keywords - for: Used to create a loop that iterates over a sequence (like a list, tuple, or string) or other iterable objects."
   ]
  },
  {
   "cell_type": "code",
   "execution_count": 61,
   "id": "b898dfbe-4614-413c-9279-07e982fa63f7",
   "metadata": {},
   "outputs": [
    {
     "name": "stdout",
     "output_type": "stream",
     "text": [
      "0\n",
      "1\n",
      "2\n",
      "3\n",
      "4\n"
     ]
    }
   ],
   "source": [
    "for i in range(5):\n",
    "    print(i)"
   ]
  },
  {
   "cell_type": "code",
   "execution_count": 62,
   "id": "6d2c80af-8bc6-4fa2-9627-7ef676fcf6cc",
   "metadata": {},
   "outputs": [],
   "source": [
    "#forth keywords - import: Allows you to include modules or specific functions from modules in your code, facilitating code reuse and organization."
   ]
  },
  {
   "cell_type": "code",
   "execution_count": 64,
   "id": "71e24430-0f35-4a5e-866f-28dea3b8b9e9",
   "metadata": {},
   "outputs": [
    {
     "name": "stdout",
     "output_type": "stream",
     "text": [
      "4.0\n"
     ]
    }
   ],
   "source": [
    "import math\n",
    "print(math.sqrt(16))  # Outputs: 4.0"
   ]
  },
  {
   "cell_type": "code",
   "execution_count": 65,
   "id": "e54070d2-8fc5-4c72-ae2f-2e11efe47bd3",
   "metadata": {},
   "outputs": [],
   "source": [
    "#fith keywords - class: Used to define a new class, which is a blueprint for creating objects. Classes encapsulate data and behavior."
   ]
  },
  {
   "cell_type": "code",
   "execution_count": 66,
   "id": "3e3fd1d3-eadf-4b07-b092-c282c35f3404",
   "metadata": {},
   "outputs": [],
   "source": [
    "class Dog:\n",
    "    def __init__(self, name):\n",
    "        self.name = name\n",
    "    def bark(self):\n",
    "        return \"Woof!\""
   ]
  },
  {
   "cell_type": "code",
   "execution_count": 67,
   "id": "df760a54-0824-4ac5-a35b-7d34cabfee93",
   "metadata": {},
   "outputs": [],
   "source": [
    "#Answer 2 -"
   ]
  },
  {
   "cell_type": "code",
   "execution_count": 68,
   "id": "62f1e0ef-2312-47ce-8044-0357ec798e11",
   "metadata": {},
   "outputs": [],
   "source": [
    "#Rule of defining Identifiers\n",
    "#1. They must begin with a letter (a-z, A-Z) or an underscore (_).\n",
    "#2. Python is case-sensitive, so uppercase and lowercase letters are considered different. For example, \"RAB\" and \"rab\" are distinct identifiers.\n",
    "#3. Identifiers should not be named after Python keywords or reserved words, as they have special meanings in the language.\n",
    "#4. Special characters (except underscore) are not allowed in identifiers. For example, \"R-A-B\" is not a valid identifier.\n",
    "#5. There is no maximum length for identifiers, but it's good practice to keep them reasonably short and descriptive."
   ]
  },
  {
   "cell_type": "code",
   "execution_count": 69,
   "id": "e70cc6d4-9564-413c-8fa9-324f216bebc8",
   "metadata": {},
   "outputs": [
    {
     "name": "stdout",
     "output_type": "stream",
     "text": [
      "Rule 1 rb: 21\n",
      "Rule 1 ab: 17\n",
      "Rule 1 r_a_b: 19\n",
      "Rule 2 rab: 12\n",
      "Rule 2 RAB: 19\n"
     ]
    }
   ],
   "source": [
    "#Example-Rule 1\n",
    "rb = 21\n",
    "ab = 17\n",
    "r_a_b = 19\n",
    "\n",
    "print (\"Rule 1 rb:\" ,rb)\n",
    "print (\"Rule 1 ab:\" ,ab)\n",
    "print (\"Rule 1 r_a_b:\" ,r_a_b)\n",
    "\n",
    "#Example-Rule 2 (True and true is not same if we want to use True keyword the firsr letter T should be capital)\n",
    "rab = 12\n",
    "RAB = 19\n",
    "\n",
    "print (\"Rule 2 rab:\" ,rab)\n",
    "print (\"Rule 2 RAB:\" ,RAB)\n",
    "\n",
    "#Example-Rule 3\n",
    "#Identifiers should not be named after Python keywords or reserved words, as they have special meanings in the language.\n",
    "#if we use this keyword as identifier than meaning of that keyword changed that will effect our code.\n",
    "\n",
    "#Example-Rule 4\n",
    "# @rab = 19 it will show error\n",
    "\n",
    "#Example-Rule 5\n",
    "#Reasonably short and descriptive identifier."
   ]
  },
  {
   "cell_type": "code",
   "execution_count": 70,
   "id": "612fa1fa-49d0-4cb4-beaf-1feef57992e5",
   "metadata": {},
   "outputs": [],
   "source": [
    "#Answer - 3"
   ]
  },
  {
   "cell_type": "code",
   "execution_count": 71,
   "id": "5542a053-922b-4b01-8afa-c1c272650033",
   "metadata": {},
   "outputs": [
    {
     "name": "stdout",
     "output_type": "stream",
     "text": [
      "SUM: 19\n"
     ]
    }
   ],
   "source": [
    "''' Comments are text annotations within the source code that are ignored by the interpreter during execution. \n",
    "They are used to provide explanations, documentation, or additional information about the code. \n",
    "Comments are essential for making code more understandable, aiding in collaboration among developers, and facilitating maintenance. '''\n",
    "\n",
    "''' To explain the code we use comment '''\n",
    "\n",
    "#Two types of Comments\n",
    "'''\n",
    "1. Single line comment using hashtag (#)\n",
    "2. Multiple line comment using three upper comma (''' ''')\n",
    "'''\n",
    "\n",
    "#code for sum of two number in python\n",
    "\n",
    "#Input Value of two number\n",
    "g = 10\n",
    "h = 9\n",
    "\n",
    "#calculation of two number \n",
    "sum_of_two_number = g + h\n",
    "\n",
    "#Result\n",
    "print(\"SUM:\", sum_of_two_number)"
   ]
  },
  {
   "cell_type": "code",
   "execution_count": 72,
   "id": "b81cc024-b2f6-411b-a888-d36fc758b64e",
   "metadata": {},
   "outputs": [],
   "source": [
    "#Answer - 4"
   ]
  },
  {
   "cell_type": "code",
   "execution_count": 73,
   "id": "b6db30ae-94a9-44f2-9381-000aa92d715d",
   "metadata": {},
   "outputs": [
    {
     "data": {
      "text/plain": [
       "'\\nExample\\nif rab > 27 :\\nprint(\"rab\")\\nResult-Indentation error\\n'"
      ]
     },
     "execution_count": 73,
     "metadata": {},
     "output_type": "execute_result"
    }
   ],
   "source": [
    "'''\n",
    "Proper indentation is important in Python because it is used to indicate the structure and hierarchy of code blocks. \n",
    "Unlike many other programming languages that use curly braces or keywords to define code blocks, Python relies on indentation\n",
    "to determine the scope of statements within loops, conditional statements, functions, and other code structures.\n",
    "The Python interpreter uses indentation to understand the beginning and end of blocks of code. \n",
    "'''\n",
    "\n",
    "#Note-If indentation(Proper Structure or Space for code) is not provided in the code it will create indentation error.\n",
    "\n",
    "'''\n",
    "Example\n",
    "if rab > 27 :\n",
    "print(\"rab\")\n",
    "Result-Indentation error\n",
    "'''"
   ]
  },
  {
   "cell_type": "code",
   "execution_count": 74,
   "id": "aca803da-8ee4-443d-8956-bf9f515863e9",
   "metadata": {},
   "outputs": [],
   "source": [
    "#Answer 5\n",
    "#Indentation is not just a matter of style; it is a fundamental part of the language's syntax. \n",
    "#Incorrect indentation can lead to various issues, ranging from subtle logical errors to outright syntax errors.\n",
    "#Type of Errors\n",
    "#1. Syntax Error\n",
    "#2. Logical Error\n",
    "#3. Unintended Nesting\n",
    "#4. Mixing tab and Spaces\n",
    "#5. Inconsistance Indentation"
   ]
  },
  {
   "cell_type": "code",
   "execution_count": null,
   "id": "26f1f9e5-7c71-471a-b1d2-bab172110232",
   "metadata": {},
   "outputs": [
    {
     "name": "stdout",
     "output_type": "stream",
     "text": [
      "Constant Expression Result: 16.3\n"
     ]
    }
   ],
   "source": [
    "#Answer 6\n",
    "'''\n",
    "Expression-An expression is a combination of values, variables, operators, and function calls that can be evaluated to produce a result. \n",
    "Essentially, an expression returns a value. Expressions can be simple, like a variable or a literal, or complex, involving multiple components.\n",
    "'''\n",
    "\n",
    "'''\n",
    "Statement-A statement, on the other hand, is a complete unit of code that performs an action. \n",
    "Statements are executed one after another, and they do not produce a value by themselves. \n",
    "Examples of statements include variable assignments, function calls, loops, conditionals, and more.\n",
    "'''\n",
    "\n",
    "#Example for Expression-Constant Expressions\n",
    "i = 15 + 1.3\n",
    "\n",
    "print(\"Constant Expression Result:\", i)\n",
    "\n",
    "#Example for Statement-if else Statement\n",
    "f = float(input(\"Enter first number:\"))\n",
    "g = float(input(\"Enter second number:\"))\n",
    "\n",
    "if f > g :\n",
    "    print (\"first number is greater than second number\")\n",
    "    \n",
    "elif f < g :\n",
    "    print (\"first number is less than second number\")\n",
    "    \n",
    "else :\n",
    "    print (\"both are equal\")"
   ]
  },
  {
   "cell_type": "code",
   "execution_count": null,
   "id": "3fac0ee7-af4a-44c1-9cae-e572f9e62911",
   "metadata": {},
   "outputs": [],
   "source": []
  }
 ],
 "metadata": {
  "kernelspec": {
   "display_name": "Python 3 (ipykernel)",
   "language": "python",
   "name": "python3"
  },
  "language_info": {
   "codemirror_mode": {
    "name": "ipython",
    "version": 3
   },
   "file_extension": ".py",
   "mimetype": "text/x-python",
   "name": "python",
   "nbconvert_exporter": "python",
   "pygments_lexer": "ipython3",
   "version": "3.12.6"
  }
 },
 "nbformat": 4,
 "nbformat_minor": 5
}
